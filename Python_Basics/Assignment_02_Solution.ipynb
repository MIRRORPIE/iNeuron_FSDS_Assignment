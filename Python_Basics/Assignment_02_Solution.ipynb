{
 "cells": [
  {
   "cell_type": "markdown",
   "id": "9b503ad7",
   "metadata": {},
   "source": [
    "## Assignment 2:"
   ]
  },
  {
   "cell_type": "markdown",
   "id": "39b27e0c",
   "metadata": {},
   "source": [
    "##### Question 1: What are the two values of the Boolean data type? How do you write them?\n",
    "\n",
    "##### Answer:\n",
    "\n",
    "* True\n",
    "* False"
   ]
  },
  {
   "cell_type": "code",
   "execution_count": 1,
   "id": "efc67cf3",
   "metadata": {},
   "outputs": [
    {
     "name": "stdout",
     "output_type": "stream",
     "text": [
      "True\n",
      "False\n"
     ]
    }
   ],
   "source": [
    "a = True\n",
    "print(a)\n",
    "b = False\n",
    "print(b)"
   ]
  },
  {
   "cell_type": "code",
   "execution_count": null,
   "id": "4ca2d99e",
   "metadata": {},
   "outputs": [],
   "source": []
  },
  {
   "cell_type": "markdown",
   "id": "819e3a6a",
   "metadata": {},
   "source": [
    "##### Question 2: What are the three different types of Boolean operators?\n",
    "\n",
    "##### Answer:\n",
    "\n",
    "* and\n",
    "* or\n",
    "* not"
   ]
  },
  {
   "cell_type": "code",
   "execution_count": null,
   "id": "7f2a398c",
   "metadata": {},
   "outputs": [],
   "source": []
  },
  {
   "cell_type": "markdown",
   "id": "e97dd95a",
   "metadata": {},
   "source": [
    "##### Question 3: Make a list of each Boolean operator's truth tables (i.e. every possible combination of Boolean values for the operator and what it evaluate ).\n",
    "\n",
    "##### Answer:\n",
    "\n",
    "* Truth Table for and:\n",
    "| A   | B  | Result  |\n",
    "|---|---|---|\n",
    "|  0 | 0  | 0  |\n",
    "|  0 | 1  | 0  |\n",
    "|  1 | 0  | 0  |\n",
    "|  1 | 1  | 1  |\n",
    "\n",
    "* Truth Table for or:\n",
    "| A   | B  | Result  |\n",
    "|---|---|---|\n",
    "|  0 | 0  | 0  |\n",
    "|  0 | 1  | 1  |\n",
    "|  1 | 0  | 1  |\n",
    "|  1 | 1  | 1  |\n",
    "\n",
    "* Truth Table for not:\n",
    "| A   | Result |\n",
    "|---|---|\n",
    "|  0 | 1  |\n",
    "|  1 | 0  |"
   ]
  },
  {
   "cell_type": "code",
   "execution_count": 2,
   "id": "2d322a46",
   "metadata": {},
   "outputs": [
    {
     "name": "stdout",
     "output_type": "stream",
     "text": [
      "\n",
      "Truth table for and:\n",
      "\n",
      "0 and 0 : 0\n",
      "0 and 1 : 0\n",
      "1 and 0 : 0\n",
      "1 and 1 : 1\n",
      "\n",
      "Truth table for or:\n",
      "\n",
      "0 or 0 : 0\n",
      "0 or 1 : 1\n",
      "1 or 0 : 1\n",
      "1 or 1 : 1\n",
      "\n",
      "Truth table for not:\n",
      "\n",
      "not 0: 1\n",
      "not 1: 0\n"
     ]
    }
   ],
   "source": [
    "a = [0, 1]\n",
    "b = [0, 1]\n",
    "print('\\nTruth table for and:\\n')\n",
    "for i in a:\n",
    "    for j in b:\n",
    "        print('{0} and {1} : {2}'.format(i, j, i and j))\n",
    "\n",
    "print('\\nTruth table for or:\\n')\n",
    "for i in a:\n",
    "    for j in b:\n",
    "        print('{0} or {1} : {2}'.format(i, j, i or j))\n",
    "\n",
    "print('\\nTruth table for not:\\n')\n",
    "for i in a:\n",
    "    print('not {0}: {1}'.format(i, int(not(i))))\n",
    "    "
   ]
  },
  {
   "cell_type": "code",
   "execution_count": null,
   "id": "68c3aaae",
   "metadata": {},
   "outputs": [],
   "source": []
  },
  {
   "cell_type": "markdown",
   "id": "a564b0c9",
   "metadata": {},
   "source": [
    "##### Question 4: What are the values of the following expressions?\n",
    "* (5 > 4) and (3 == 5)\n",
    "* not (5 > 4)\n",
    "* (5 > 4) or (3 == 5)\n",
    "* not ((5 > 4) or (3 == 5))\n",
    "* (True and True) and (True == False)\n",
    "* (not False) or (not True)\n",
    "\n",
    "##### Answer:\n"
   ]
  },
  {
   "cell_type": "code",
   "execution_count": 3,
   "id": "c8c79a75",
   "metadata": {},
   "outputs": [
    {
     "name": "stdout",
     "output_type": "stream",
     "text": [
      "False\n",
      "False\n",
      "True\n",
      "False\n",
      "False\n",
      "True\n"
     ]
    }
   ],
   "source": [
    "print((5 > 4) and (3 == 5))\n",
    "print(not (5 > 4))\n",
    "print((5 > 4) or (3 == 5))\n",
    "print(not ((5 > 4) or (3 == 5)))\n",
    "print((True and True) and (True == False))\n",
    "print((not False) or (not True))"
   ]
  },
  {
   "cell_type": "code",
   "execution_count": null,
   "id": "d4d790f9",
   "metadata": {},
   "outputs": [],
   "source": []
  },
  {
   "cell_type": "markdown",
   "id": "749f5160",
   "metadata": {},
   "source": [
    "##### Question 5: What are the six comparison operators?\n",
    "\n",
    "##### Answer:\n",
    "==, !=, <, >, <=, and >="
   ]
  },
  {
   "cell_type": "code",
   "execution_count": null,
   "id": "1e9ed4da",
   "metadata": {},
   "outputs": [],
   "source": []
  },
  {
   "cell_type": "markdown",
   "id": "772f546c",
   "metadata": {},
   "source": [
    "##### Qusetion 6: How do you tell the difference between the equal to and assignment operators?Describe a condition and when you would use one.\n",
    "\n",
    "##### Answer: \n",
    "\n",
    "'==' is equal equal to operator which compares the values. And '=' is equal to operator which is also called assignment operator which assign the values."
   ]
  },
  {
   "cell_type": "code",
   "execution_count": 4,
   "id": "e84de27a",
   "metadata": {},
   "outputs": [
    {
     "name": "stdout",
     "output_type": "stream",
     "text": [
      "Equals\n"
     ]
    }
   ],
   "source": [
    "# Example:\n",
    "\n",
    "## = operator:\n",
    "a = 10\n",
    "\n",
    "## == opeartor:\n",
    "if(a == a):                        \n",
    "    print('Equals')\n"
   ]
  },
  {
   "cell_type": "code",
   "execution_count": null,
   "id": "c79fefea",
   "metadata": {},
   "outputs": [],
   "source": []
  },
  {
   "cell_type": "markdown",
   "id": "20523250",
   "metadata": {},
   "source": [
    "##### Question 7: Identify the three blocks in this code:\n",
    "\n",
    "##### Answer:\n"
   ]
  },
  {
   "cell_type": "code",
   "execution_count": 5,
   "id": "9bb30081",
   "metadata": {},
   "outputs": [
    {
     "name": "stdout",
     "output_type": "stream",
     "text": [
      "ham\n",
      "spam\n",
      "spam\n"
     ]
    }
   ],
   "source": [
    "spam = 0\n",
    "if spam == 10:\n",
    "    print('eggs')\n",
    "if spam > 5:\n",
    "    print('bacon')\n",
    "else:\n",
    "    print('ham')\n",
    "    print('spam')\n",
    "    print('spam')"
   ]
  },
  {
   "cell_type": "code",
   "execution_count": null,
   "id": "8f7eac29",
   "metadata": {},
   "outputs": [],
   "source": []
  },
  {
   "cell_type": "markdown",
   "id": "bbbad8ad",
   "metadata": {},
   "source": [
    "##### Question 8: Write code that prints Hello if 1 is stored in spam, prints Howdy if 2 is stored in spam, and prints Greetings! if anything else is stored in spam.\n",
    "\n",
    "##### Answer: \n"
   ]
  },
  {
   "cell_type": "code",
   "execution_count": 6,
   "id": "f6d49a9a",
   "metadata": {},
   "outputs": [
    {
     "name": "stdout",
     "output_type": "stream",
     "text": [
      "15\n",
      "Greetings!\n"
     ]
    }
   ],
   "source": [
    "spam = int(input())\n",
    "if(spam == 1):\n",
    "    print('Hello')\n",
    "elif(spam == 2):\n",
    "    print('Howdy')\n",
    "else:\n",
    "    print('Greetings!')"
   ]
  },
  {
   "cell_type": "code",
   "execution_count": null,
   "id": "d601f113",
   "metadata": {},
   "outputs": [],
   "source": []
  },
  {
   "cell_type": "markdown",
   "id": "89b79e89",
   "metadata": {},
   "source": [
    "##### Question 9: If your programme is stuck in an endless loop, what keys you’ll press?\n",
    "\n",
    "##### Answer:\n",
    "\n",
    "ctrl + c"
   ]
  },
  {
   "cell_type": "code",
   "execution_count": null,
   "id": "936afa5e",
   "metadata": {},
   "outputs": [],
   "source": []
  },
  {
   "cell_type": "markdown",
   "id": "b42dc02a",
   "metadata": {},
   "source": [
    "##### Question 10: How can you tell the difference between break and continue?\n",
    "\n",
    "\n",
    "##### Answer:\n",
    "\n",
    "Break will move the execution outside of the loop and continue will move execution start of the loop."
   ]
  },
  {
   "cell_type": "code",
   "execution_count": 7,
   "id": "f786b0a2",
   "metadata": {},
   "outputs": [
    {
     "name": "stdout",
     "output_type": "stream",
     "text": [
      "0 1 2 3 4 5 \n",
      "Breaked the loop\n",
      "0 1 2 3 4 5 \n",
      "skipped to print 6 and moved to start of the loop statement\n",
      "7 8 9 "
     ]
    }
   ],
   "source": [
    "# use of break\n",
    "for i in range(10):\n",
    "    if(i==6):\n",
    "        break\n",
    "    print(i, end = \" \")\n",
    "    \n",
    "print('\\nBreaked the loop')\n",
    "\n",
    "#use of  continue\n",
    "for i in range(10):\n",
    "    if(i==6):\n",
    "        print('\\nskipped to print 6 and moved to start of the loop statement')\n",
    "        continue\n",
    "    print(i, end = \" \")"
   ]
  },
  {
   "cell_type": "code",
   "execution_count": null,
   "id": "6f3d60ad",
   "metadata": {},
   "outputs": [],
   "source": []
  },
  {
   "cell_type": "markdown",
   "id": "d871a435",
   "metadata": {},
   "source": [
    "##### Question 11: In a for loop, what is the difference between range(10), range(0, 10), and range(0, 10, 1)?\n",
    "\n",
    "##### Answer: \n",
    "\n",
    "basically no difference... since default start is 0, default stop is 1. So if we are missing values in range then it will take default one."
   ]
  },
  {
   "cell_type": "code",
   "execution_count": 8,
   "id": "81ab267d",
   "metadata": {},
   "outputs": [
    {
     "name": "stdout",
     "output_type": "stream",
     "text": [
      "[0, 1, 2, 3, 4, 5, 6, 7, 8, 9]\n",
      "[0, 1, 2, 3, 4, 5, 6, 7, 8, 9]\n",
      "[0, 1, 2, 3, 4, 5, 6, 7, 8, 9]\n"
     ]
    }
   ],
   "source": [
    "print(list(range(10)))\n",
    "print(list(range(0, 10)))\n",
    "print(list(range(0, 10, 1)))"
   ]
  },
  {
   "cell_type": "code",
   "execution_count": null,
   "id": "5a2e9f65",
   "metadata": {},
   "outputs": [],
   "source": []
  },
  {
   "cell_type": "markdown",
   "id": "490b0a16",
   "metadata": {},
   "source": [
    "##### Question 12: Write a short program that prints the numbers 1 to 10 using a for loop. Then write an equivalent program that prints the numbers 1 to 10 using a while loop.\n",
    "\n",
    "##### Answer:\n",
    "\n"
   ]
  },
  {
   "cell_type": "code",
   "execution_count": 9,
   "id": "2a630b2b",
   "metadata": {},
   "outputs": [
    {
     "name": "stdout",
     "output_type": "stream",
     "text": [
      "1 2 3 4 5 6 7 8 9 10 \n",
      "1 2 3 4 5 6 7 8 9 10 "
     ]
    }
   ],
   "source": [
    "for i in range(1, 11):\n",
    "    print(i, end = ' ')\n",
    "print()   \n",
    "i = 1\n",
    "while(i < 11):\n",
    "    print(i, end = ' ')\n",
    "    i += 1"
   ]
  },
  {
   "cell_type": "code",
   "execution_count": null,
   "id": "f4538644",
   "metadata": {},
   "outputs": [],
   "source": []
  },
  {
   "cell_type": "markdown",
   "id": "04ee4dbd",
   "metadata": {},
   "source": [
    "##### Question 13: If you had a function named bacon() inside a module named spam, how would you call it after importing spam?\n",
    "\n",
    "##### Answer:\n",
    "\n",
    "    from spam import bacon\n",
    "    bacon()\n",
    "\n",
    "    or\n",
    "\n",
    "    import spam\n",
    "    spam.bacon()"
   ]
  },
  {
   "cell_type": "code",
   "execution_count": null,
   "id": "ded6a3e4",
   "metadata": {},
   "outputs": [],
   "source": []
  }
 ],
 "metadata": {
  "kernelspec": {
   "display_name": "Python 3",
   "language": "python",
   "name": "python3"
  },
  "language_info": {
   "codemirror_mode": {
    "name": "ipython",
    "version": 3
   },
   "file_extension": ".py",
   "mimetype": "text/x-python",
   "name": "python",
   "nbconvert_exporter": "python",
   "pygments_lexer": "ipython3",
   "version": "3.6.8"
  }
 },
 "nbformat": 4,
 "nbformat_minor": 5
}
