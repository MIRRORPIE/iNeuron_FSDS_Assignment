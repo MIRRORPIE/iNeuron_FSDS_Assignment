{
 "cells": [
  {
   "cell_type": "markdown",
   "id": "293650fc",
   "metadata": {},
   "source": [
    "## Assignment 01:"
   ]
  },
  {
   "cell_type": "markdown",
   "id": "bdaeb622",
   "metadata": {},
   "source": [
    "##### Question 1:  In the below elements which of them are values or an expression? eg:- values can be integer or string and expressions will be mathematical operators.\n",
    "* * \n",
    "* 'hello'\n",
    "* -87.8\n",
    "* - \n",
    "* / \n",
    "* +\n",
    "* 6"
   ]
  },
  {
   "cell_type": "markdown",
   "id": "b06c3309",
   "metadata": {},
   "source": [
    "##### Answer:\n",
    "values: ['hello', -87.5, 6]\n",
    "\n",
    "Expression: [*, -, /, +]"
   ]
  },
  {
   "cell_type": "code",
   "execution_count": null,
   "id": "793ef10c",
   "metadata": {},
   "outputs": [],
   "source": []
  },
  {
   "cell_type": "markdown",
   "id": "3a6e0004",
   "metadata": {},
   "source": [
    "##### Question 2: What is the difference between string and variable?"
   ]
  },
  {
   "cell_type": "markdown",
   "id": "0165c380",
   "metadata": {},
   "source": [
    "##### Answer:\n",
    "\n",
    "String:\n",
    "* group of alphanumeric and special type characters\n",
    "* it is a type of information which is stored in a varaible.\n",
    "    \n",
    "Variable:\n",
    "* it is a name which is used to store the information.\n",
    "* it have certain naming convention. \n",
    "    \n",
    "Example:\n",
    "* a = 'Raushan'\n",
    "* my_var5 = 'Hello'\n",
    "    \n",
    "Here a and my_var5 is a variable name and 'Raushan' and 'Hello' is string (i.e. information stored in it) "
   ]
  },
  {
   "cell_type": "code",
   "execution_count": null,
   "id": "2bd0ba6c",
   "metadata": {},
   "outputs": [],
   "source": []
  },
  {
   "cell_type": "markdown",
   "id": "1b55cfe0",
   "metadata": {},
   "source": [
    "##### Question 3: Describe three different data types."
   ]
  },
  {
   "cell_type": "markdown",
   "id": "26937050",
   "metadata": {},
   "source": [
    "##### Answer:\n",
    "\n",
    "* Integer: Integer is a whole number, positive or negative without decimals.\n",
    "\n",
    "* Float: Float are numbers with decimal.\n",
    "\n",
    "* String: String are group of alphanumerica and special type characters with indexing.\n"
   ]
  },
  {
   "cell_type": "code",
   "execution_count": null,
   "id": "c31fcf8f",
   "metadata": {},
   "outputs": [],
   "source": []
  },
  {
   "cell_type": "markdown",
   "id": "9d84d809",
   "metadata": {},
   "source": [
    "##### Question 4: What is an expression made up of? What do all expressions do?"
   ]
  },
  {
   "cell_type": "markdown",
   "id": "c9c3f4e1",
   "metadata": {},
   "source": [
    "##### Answer:\n",
    "\n",
    "Expressions are made up of variables and operators or some functions which returns something. It evaluates to some values."
   ]
  },
  {
   "cell_type": "code",
   "execution_count": null,
   "id": "ec9cde9f",
   "metadata": {},
   "outputs": [],
   "source": []
  },
  {
   "cell_type": "markdown",
   "id": "c122592f",
   "metadata": {},
   "source": [
    "##### Question 5: This assignment statements, like spam = 10. What is the difference between an expression and a statement?\n"
   ]
  },
  {
   "cell_type": "markdown",
   "id": "f0df42c3",
   "metadata": {},
   "source": [
    "##### Answer: \n",
    "\n",
    "A Expression is always a statement but a statement is always not a expression."
   ]
  },
  {
   "cell_type": "code",
   "execution_count": null,
   "id": "7c5be49a",
   "metadata": {},
   "outputs": [],
   "source": []
  },
  {
   "cell_type": "markdown",
   "id": "6a3aab5f",
   "metadata": {},
   "source": [
    "##### Question 6: After running the following code, what does the variable bacon contain?\n",
    "* bacon = 22\n",
    "* bacon + 1\n",
    "\n",
    "##### Answer: \n",
    "bacon contains 22 because we are not assigning value to bacon after operation."
   ]
  },
  {
   "cell_type": "code",
   "execution_count": null,
   "id": "2f37541d",
   "metadata": {},
   "outputs": [],
   "source": []
  },
  {
   "cell_type": "markdown",
   "id": "b0d5db69",
   "metadata": {},
   "source": [
    "##### Question 7: What should the values of the following two terms be?\n",
    "* 'spam' + 'spamspam'\n",
    "* 'spam' * 3\n",
    "\n",
    "##### Answer:\n",
    "* 'spamspamspam'\n",
    "* 'spamspamspam'"
   ]
  },
  {
   "cell_type": "code",
   "execution_count": null,
   "id": "62fa9b00",
   "metadata": {},
   "outputs": [],
   "source": []
  },
  {
   "cell_type": "markdown",
   "id": "a1b0b834",
   "metadata": {},
   "source": [
    "##### Question 8: Why is eggs a valid variable name while 100 is invalid?\n",
    "\n",
    "##### Answer:\n",
    "Because A variable name must start with a letter or the underscore character."
   ]
  },
  {
   "cell_type": "code",
   "execution_count": null,
   "id": "df8ae21c",
   "metadata": {},
   "outputs": [],
   "source": []
  },
  {
   "cell_type": "markdown",
   "id": "b7796898",
   "metadata": {},
   "source": [
    "##### Question 9: What three functions can be used to get the integer, floating-point number, or string version of a value?\n",
    "\n",
    "##### Answer:\n",
    "* int()\n",
    "* float()\n",
    "* str()"
   ]
  },
  {
   "cell_type": "code",
   "execution_count": null,
   "id": "efabecca",
   "metadata": {},
   "outputs": [],
   "source": []
  },
  {
   "cell_type": "markdown",
   "id": "04213192",
   "metadata": {},
   "source": [
    "##### Question 10: Why does this expression cause an error? How can you fix it?\n",
    "'I have eaten ' + 99 + ' burritos.'\n",
    "\n",
    "##### Answer: \n",
    "* Error: since we are trying to add string with numeric type data.\n",
    "* Fix: Change 99 to string as written below: 'I have eaten ' + '99' + ' burritos.'"
   ]
  }
 ],
 "metadata": {
  "kernelspec": {
   "display_name": "Python 3",
   "language": "python",
   "name": "python3"
  },
  "language_info": {
   "codemirror_mode": {
    "name": "ipython",
    "version": 3
   },
   "file_extension": ".py",
   "mimetype": "text/x-python",
   "name": "python",
   "nbconvert_exporter": "python",
   "pygments_lexer": "ipython3",
   "version": "3.6.8"
  }
 },
 "nbformat": 4,
 "nbformat_minor": 5
}
