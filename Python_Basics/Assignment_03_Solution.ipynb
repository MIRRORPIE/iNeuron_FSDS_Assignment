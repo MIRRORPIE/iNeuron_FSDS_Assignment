{
 "cells": [
  {
   "cell_type": "markdown",
   "id": "1fbe160d",
   "metadata": {},
   "source": [
    "## Assignment 03:"
   ]
  },
  {
   "cell_type": "markdown",
   "id": "e7681bf6",
   "metadata": {},
   "source": [
    "##### Question 1: Why are functions advantageous to have in your programs?\n",
    "\n",
    "##### Answer: \n",
    "    Advantages of function in your programs:\n",
    "    * Reducing duplication of code.\n",
    "    * Decomposing complex problems into simpler pieces.\n",
    "    * Improving clarity of the code.\n",
    "    * Reuse of code.\n",
    "    * Information hiding."
   ]
  },
  {
   "cell_type": "code",
   "execution_count": null,
   "id": "457f473b",
   "metadata": {},
   "outputs": [],
   "source": []
  },
  {
   "cell_type": "markdown",
   "id": "dbe0c16d",
   "metadata": {},
   "source": [
    "##### Question 2: When does the code in a function run: when it's specified or when it's called?\n",
    "\n",
    "##### Answer:\n",
    "\n",
    "    When function is called then only it runs."
   ]
  },
  {
   "cell_type": "code",
   "execution_count": null,
   "id": "d7394ee5",
   "metadata": {},
   "outputs": [],
   "source": []
  },
  {
   "cell_type": "markdown",
   "id": "d5b44e9c",
   "metadata": {},
   "source": [
    "##### Question 3: What statement creates a function?\n",
    "\n",
    "##### Answer: \n",
    "\n",
    "    def statement creates a function."
   ]
  },
  {
   "cell_type": "code",
   "execution_count": null,
   "id": "29888bbc",
   "metadata": {},
   "outputs": [],
   "source": []
  },
  {
   "cell_type": "code",
   "execution_count": null,
   "id": "6538aa9a",
   "metadata": {},
   "outputs": [],
   "source": []
  },
  {
   "cell_type": "markdown",
   "id": "6d67033c",
   "metadata": {},
   "source": [
    "##### Question 4: What is the difference between a function and a function call?\n",
    "\n",
    "##### Answer: \n",
    "\n",
    "    Function: it is first defined using def statement. but after defining function, its not gonna run.\n",
    "    Function call: So to execute the codes inside a function, we need to do function call."
   ]
  },
  {
   "cell_type": "code",
   "execution_count": 1,
   "id": "d6a228c0",
   "metadata": {},
   "outputs": [
    {
     "data": {
      "text/plain": [
       "'Odd'"
      ]
     },
     "execution_count": 1,
     "metadata": {},
     "output_type": "execute_result"
    }
   ],
   "source": [
    "## Function definition:\n",
    "def fun(x):\n",
    "    if(x %2 == 0):\n",
    "        return('Even')\n",
    "    return('Odd')\n",
    "\n",
    "## Function call:\n",
    "fun(5)"
   ]
  },
  {
   "cell_type": "code",
   "execution_count": null,
   "id": "c131ff27",
   "metadata": {},
   "outputs": [],
   "source": []
  },
  {
   "cell_type": "markdown",
   "id": "54e6c767",
   "metadata": {},
   "source": [
    "##### Question 5: How many global scopes are there in a Python program? How many local scopes?\n",
    "\n",
    "##### Answer: \n",
    "\n",
    "    There's only one global Python scope per program execution. This scope remains in existence until the program terminates , and a local scope is created whenever a function is called."
   ]
  },
  {
   "cell_type": "code",
   "execution_count": null,
   "id": "4355c2af",
   "metadata": {},
   "outputs": [],
   "source": []
  },
  {
   "cell_type": "markdown",
   "id": "0a341da3",
   "metadata": {},
   "source": [
    "##### Question 6: What happens to variables in a local scope when the function call returns?\n",
    "\n",
    "##### Answer: \n",
    "\n",
    "    local scope is destroyed"
   ]
  },
  {
   "cell_type": "code",
   "execution_count": null,
   "id": "f4d96da4",
   "metadata": {},
   "outputs": [],
   "source": []
  },
  {
   "cell_type": "markdown",
   "id": "569ef5a3",
   "metadata": {},
   "source": [
    "##### Question 7: What is the concept of a return value? Is it possible to have a return value in an expression?\n",
    "\n",
    "##### Answer: \n",
    "\n",
    "    A return statement is used to end the execution of the function call and “returns” the result (value of the expression following the return keyword) to the caller"
   ]
  },
  {
   "cell_type": "code",
   "execution_count": null,
   "id": "71c6217c",
   "metadata": {},
   "outputs": [],
   "source": []
  },
  {
   "cell_type": "code",
   "execution_count": null,
   "id": "53f3c3b8",
   "metadata": {},
   "outputs": [],
   "source": []
  },
  {
   "cell_type": "markdown",
   "id": "bbfca321",
   "metadata": {},
   "source": [
    "##### Question 8: If a function does not have a return statement, what is the return value of a call to that function?\n",
    "\n",
    "##### Answer: \n",
    "\n",
    "    None"
   ]
  },
  {
   "cell_type": "code",
   "execution_count": 2,
   "id": "37b1d9e3",
   "metadata": {},
   "outputs": [
    {
     "name": "stdout",
     "output_type": "stream",
     "text": [
      "x\n",
      "None\n"
     ]
    }
   ],
   "source": [
    "def fun():\n",
    "    print('x')\n",
    "    \n",
    "ret = fun()\n",
    "print(ret)"
   ]
  },
  {
   "cell_type": "code",
   "execution_count": null,
   "id": "65456105",
   "metadata": {},
   "outputs": [],
   "source": []
  },
  {
   "cell_type": "markdown",
   "id": "db636ecb",
   "metadata": {},
   "source": [
    "##### Question 9: How do you make a function variable refer to the global variable?\n",
    "\n",
    "##### Answer: \n",
    "\n",
    "    To change the value of a global variable inside a function, refer to the variable by using the global keyword:"
   ]
  },
  {
   "cell_type": "code",
   "execution_count": 3,
   "id": "926274bf",
   "metadata": {},
   "outputs": [
    {
     "name": "stdout",
     "output_type": "stream",
     "text": [
      "200\n"
     ]
    }
   ],
   "source": [
    "x = 300\n",
    "\n",
    "def myfunc():\n",
    "    global x\n",
    "    x = 200\n",
    "\n",
    "myfunc()\n",
    "\n",
    "print(x)"
   ]
  },
  {
   "cell_type": "code",
   "execution_count": null,
   "id": "2ee4a2f9",
   "metadata": {},
   "outputs": [],
   "source": []
  },
  {
   "cell_type": "markdown",
   "id": "f5d8e7df",
   "metadata": {},
   "source": [
    "##### Question 10: What is the data type of None?\n",
    "\n",
    "##### Answer: \n",
    "\n",
    "    NoneType"
   ]
  },
  {
   "cell_type": "code",
   "execution_count": null,
   "id": "787ed53d",
   "metadata": {},
   "outputs": [],
   "source": []
  },
  {
   "cell_type": "markdown",
   "id": "7c721363",
   "metadata": {},
   "source": [
    "##### Question 11: What does the sentence import areallyourpetsnamederic do?\n",
    "\n",
    "##### Answer: \n",
    "\n",
    "    That import statement imports a module named areallyourpetsnamederic. (But a module of this name doesnt exists in Python)\n",
    "\n"
   ]
  },
  {
   "cell_type": "code",
   "execution_count": null,
   "id": "82f8c6cd",
   "metadata": {},
   "outputs": [],
   "source": []
  },
  {
   "cell_type": "markdown",
   "id": "1b64384d",
   "metadata": {},
   "source": [
    "##### Question 12: If you had a bacon() feature in a spam module, what would you call it after importing spam?\n",
    "\n",
    "##### Answer: \n",
    "    \n",
    "    import spam\n",
    "    spam.bacon()"
   ]
  },
  {
   "cell_type": "code",
   "execution_count": null,
   "id": "3ce9d683",
   "metadata": {},
   "outputs": [],
   "source": []
  },
  {
   "cell_type": "markdown",
   "id": "d224fe05",
   "metadata": {},
   "source": [
    "##### Question 13: What can you do to save a programme from crashing if it encounters an error?\n",
    "\n",
    "##### Answer: \n",
    "\n",
    "    We can use exception handling\n",
    "    try:\n",
    "    except:\n",
    "    finally:"
   ]
  },
  {
   "cell_type": "code",
   "execution_count": null,
   "id": "43d6134d",
   "metadata": {},
   "outputs": [],
   "source": []
  },
  {
   "cell_type": "markdown",
   "id": "8768f582",
   "metadata": {},
   "source": [
    "##### Question 14: What is the purpose of the try clause? What is the purpose of the except clause?\n",
    "\n",
    "##### Answer: \n",
    "\n",
    "    The try block lets you test a block of code for errors. The except block lets you handle the error.\n"
   ]
  },
  {
   "cell_type": "code",
   "execution_count": null,
   "id": "b593565f",
   "metadata": {},
   "outputs": [],
   "source": []
  }
 ],
 "metadata": {
  "kernelspec": {
   "display_name": "Python 3",
   "language": "python",
   "name": "python3"
  },
  "language_info": {
   "codemirror_mode": {
    "name": "ipython",
    "version": 3
   },
   "file_extension": ".py",
   "mimetype": "text/x-python",
   "name": "python",
   "nbconvert_exporter": "python",
   "pygments_lexer": "ipython3",
   "version": "3.6.8"
  }
 },
 "nbformat": 4,
 "nbformat_minor": 5
}
